{
 "cells": [
  {
   "cell_type": "code",
   "execution_count": 1,
   "metadata": {},
   "outputs": [],
   "source": [
    "import pandas as pd\n",
    "import numpy as np\n",
    "import matplotlib as plt\n",
    "import seaborn as sns\n",
    "from PIL import Image\n",
    "import NeuralNetworkClasses as nn\n",
    "import FHmodules as fh\n",
    "import os\n"
   ]
  },
  {
   "cell_type": "markdown",
   "metadata": {},
   "source": [
    "# Image stuff:"
   ]
  },
  {
   "cell_type": "code",
   "execution_count": null,
   "metadata": {},
   "outputs": [],
   "source": [
    "img = Image.open('testdigit9.bmp').convert('L')\n",
    "img.size"
   ]
  },
  {
   "cell_type": "code",
   "execution_count": null,
   "metadata": {},
   "outputs": [],
   "source": [
    "imgArr = np.array(img)\n",
    "imgArr"
   ]
  },
  {
   "cell_type": "code",
   "execution_count": null,
   "metadata": {},
   "outputs": [],
   "source": [
    "imgArr.shape"
   ]
  },
  {
   "cell_type": "code",
   "execution_count": null,
   "metadata": {},
   "outputs": [],
   "source": [
    "bwArr = np.where(imgArr == 255, 0,1)\n",
    "bwArr"
   ]
  },
  {
   "cell_type": "code",
   "execution_count": null,
   "metadata": {},
   "outputs": [],
   "source": [
    "df = pd.DataFrame(bwArr)"
   ]
  },
  {
   "cell_type": "code",
   "execution_count": null,
   "metadata": {},
   "outputs": [],
   "source": [
    "df"
   ]
  },
  {
   "cell_type": "code",
   "execution_count": 10,
   "metadata": {},
   "outputs": [
    {
     "name": "stdout",
     "output_type": "stream",
     "text": [
      "c:\\Users\\camer\\Desktop\\Cam's cython crojects\\Digit Recognition\n",
      "C:\\Users\\camer\\Desktop\\Cam's cython crojects\\Digit Recognition\n"
     ]
    }
   ],
   "source": [
    "\n",
    "\n",
    "print(os.getcwd())\n",
    "os.chdir(\"C:/Users/camer/Desktop/Cam's cython crojects/Digit Recognition\")\n",
    "print(os.getcwd())\n",
    "\n",
    "files, paths, labels = fh.getFileList('Digits Test Folder',\"C:/Users/camer/Desktop/Cam's cython crojects/Digit Recognition\")"
   ]
  },
  {
   "cell_type": "code",
   "execution_count": 11,
   "metadata": {},
   "outputs": [],
   "source": [
    "files, paths, labels = fh.getFileList('Digits Test Folder',\"C:/Users/camer/Desktop/Cam's cython crojects/Digit Recognition\")"
   ]
  },
  {
   "cell_type": "code",
   "execution_count": 12,
   "metadata": {},
   "outputs": [
    {
     "name": "stdout",
     "output_type": "stream",
     "text": [
      "0_testdigit.bmp\n",
      "C:/Users/camer/Desktop/Cam's cython crojects/Digit Recognition/Digits Test Folder/0_testdigit.bmp\n",
      "0\n",
      "1_testdigit.bmp\n",
      "C:/Users/camer/Desktop/Cam's cython crojects/Digit Recognition/Digits Test Folder/1_testdigit.bmp\n",
      "1\n",
      "2_testdigit.bmp\n",
      "C:/Users/camer/Desktop/Cam's cython crojects/Digit Recognition/Digits Test Folder/2_testdigit.bmp\n",
      "2\n",
      "3_testdigit.bmp\n",
      "C:/Users/camer/Desktop/Cam's cython crojects/Digit Recognition/Digits Test Folder/3_testdigit.bmp\n",
      "3\n",
      "4_testdigit.bmp\n",
      "C:/Users/camer/Desktop/Cam's cython crojects/Digit Recognition/Digits Test Folder/4_testdigit.bmp\n",
      "4\n",
      "5_testdigit.bmp\n",
      "C:/Users/camer/Desktop/Cam's cython crojects/Digit Recognition/Digits Test Folder/5_testdigit.bmp\n",
      "5\n",
      "6_testdigit.bmp\n",
      "C:/Users/camer/Desktop/Cam's cython crojects/Digit Recognition/Digits Test Folder/6_testdigit.bmp\n",
      "6\n",
      "7_testdigit.bmp\n",
      "C:/Users/camer/Desktop/Cam's cython crojects/Digit Recognition/Digits Test Folder/7_testdigit.bmp\n",
      "7\n",
      "8_testdigit.bmp\n",
      "C:/Users/camer/Desktop/Cam's cython crojects/Digit Recognition/Digits Test Folder/8_testdigit.bmp\n",
      "8\n",
      "9_testdigit.bmp\n",
      "C:/Users/camer/Desktop/Cam's cython crojects/Digit Recognition/Digits Test Folder/9_testdigit.bmp\n",
      "9\n"
     ]
    }
   ],
   "source": [
    "for i in range(0,len(files)):\n",
    "    print(files[i])\n",
    "    print(paths[i])\n",
    "    print(labels[i])"
   ]
  },
  {
   "cell_type": "code",
   "execution_count": 13,
   "metadata": {},
   "outputs": [
    {
     "name": "stdout",
     "output_type": "stream",
     "text": [
      "531\n",
      "7865\n",
      "17049\n",
      "20542\n",
      "19087\n",
      "18235\n",
      "15329\n",
      "17370\n",
      "25599\n",
      "10770\n"
     ]
    }
   ],
   "source": [
    "for file in paths:\n",
    "    df = fh.imgToDataframe(file)\n",
    "    print(df.sum().sum())"
   ]
  },
  {
   "cell_type": "markdown",
   "metadata": {},
   "source": [
    "# ML stuff:"
   ]
  },
  {
   "cell_type": "code",
   "execution_count": 2,
   "metadata": {},
   "outputs": [],
   "source": [
    "sizes = [10,5,2]\n",
    "funcs = [nn.relu,nn.sigmoid,nn.identity]\n",
    "\n",
    "testnet = nn.Net(sizes,funcs)"
   ]
  },
  {
   "cell_type": "code",
   "execution_count": null,
   "metadata": {},
   "outputs": [],
   "source": [
    "np.matmul([1,2,3,4,5,6,7,8,9,10],testnet.weights[0])\n",
    "#testnet.weights"
   ]
  },
  {
   "cell_type": "code",
   "execution_count": 3,
   "metadata": {},
   "outputs": [],
   "source": [
    "trialdata = np.array([-1,1,-1,1,-1,1,-1,1,-1,1])"
   ]
  },
  {
   "cell_type": "code",
   "execution_count": null,
   "metadata": {},
   "outputs": [],
   "source": [
    "print(testnet.layerlist[0].activation(trialdata))"
   ]
  },
  {
   "cell_type": "code",
   "execution_count": null,
   "metadata": {},
   "outputs": [],
   "source": [
    "testnet.zero()"
   ]
  },
  {
   "cell_type": "code",
   "execution_count": 4,
   "metadata": {},
   "outputs": [
    {
     "name": "stdout",
     "output_type": "stream",
     "text": [
      "[-1  1 -1  1 -1  1 -1  1 -1  1]\n",
      "[1 1 1 1 1]\n",
      "[1 1 1 1 1]\n",
      "[0.99752738 0.99752738]\n"
     ]
    }
   ],
   "source": [
    "testnet.forward(trialdata)"
   ]
  },
  {
   "cell_type": "code",
   "execution_count": null,
   "metadata": {},
   "outputs": [],
   "source": [
    "testnet.out"
   ]
  },
  {
   "cell_type": "code",
   "execution_count": 5,
   "metadata": {},
   "outputs": [
    {
     "data": {
      "text/plain": [
       "([10, 5, 2],\n",
       " [<function NeuralNetworkClasses.relu(x)>,\n",
       "  <function NeuralNetworkClasses.sigmoid(x)>,\n",
       "  <function NeuralNetworkClasses.identity(x)>],\n",
       " [<NeuralNetworkClasses.Layer at 0x223ac7c3890>,\n",
       "  <NeuralNetworkClasses.Layer at 0x223ac758c10>,\n",
       "  <NeuralNetworkClasses.Layer at 0x223ac77e950>],\n",
       " [array([[1, 1, 1, 1, 1],\n",
       "         [1, 1, 1, 1, 1],\n",
       "         [1, 1, 1, 1, 1],\n",
       "         [1, 1, 1, 1, 1],\n",
       "         [1, 1, 1, 1, 1],\n",
       "         [1, 1, 1, 1, 1],\n",
       "         [1, 1, 1, 1, 1],\n",
       "         [1, 1, 1, 1, 1],\n",
       "         [1, 1, 1, 1, 1],\n",
       "         [1, 1, 1, 1, 1]]),\n",
       "  array([[1, 1],\n",
       "         [1, 1],\n",
       "         [1, 1],\n",
       "         [1, 1],\n",
       "         [1, 1]])])"
      ]
     },
     "execution_count": 5,
     "metadata": {},
     "output_type": "execute_result"
    }
   ],
   "source": [
    "testnet.getParams()"
   ]
  },
  {
   "cell_type": "code",
   "execution_count": 9,
   "metadata": {},
   "outputs": [],
   "source": [
    "a = nn.Net(testnet.params[0],testnet.params[1],testnet.params[2],testnet.params[3])"
   ]
  },
  {
   "cell_type": "markdown",
   "metadata": {},
   "source": [
    "# Pooling test:"
   ]
  },
  {
   "cell_type": "code",
   "execution_count": 73,
   "metadata": {},
   "outputs": [],
   "source": [
    "files, paths, labels = fh.getFileList('Digits Test Folder',\"C:/Users/camer/Desktop/Cam's cython crojects/Digit Recognition\")"
   ]
  },
  {
   "cell_type": "code",
   "execution_count": 74,
   "metadata": {},
   "outputs": [],
   "source": [
    "\n",
    "df = fh.imgToDataframe(paths[4])"
   ]
  },
  {
   "cell_type": "code",
   "execution_count": 75,
   "metadata": {},
   "outputs": [
    {
     "data": {
      "text/html": [
       "<div>\n",
       "<style scoped>\n",
       "    .dataframe tbody tr th:only-of-type {\n",
       "        vertical-align: middle;\n",
       "    }\n",
       "\n",
       "    .dataframe tbody tr th {\n",
       "        vertical-align: top;\n",
       "    }\n",
       "\n",
       "    .dataframe thead th {\n",
       "        text-align: right;\n",
       "    }\n",
       "</style>\n",
       "<table border=\"1\" class=\"dataframe\">\n",
       "  <thead>\n",
       "    <tr style=\"text-align: right;\">\n",
       "      <th></th>\n",
       "      <th>0</th>\n",
       "      <th>1</th>\n",
       "      <th>2</th>\n",
       "      <th>3</th>\n",
       "      <th>4</th>\n",
       "      <th>5</th>\n",
       "      <th>6</th>\n",
       "      <th>7</th>\n",
       "      <th>8</th>\n",
       "      <th>9</th>\n",
       "      <th>...</th>\n",
       "      <th>90</th>\n",
       "      <th>91</th>\n",
       "      <th>92</th>\n",
       "      <th>93</th>\n",
       "      <th>94</th>\n",
       "      <th>95</th>\n",
       "      <th>96</th>\n",
       "      <th>97</th>\n",
       "      <th>98</th>\n",
       "      <th>99</th>\n",
       "    </tr>\n",
       "  </thead>\n",
       "  <tbody>\n",
       "    <tr>\n",
       "      <th>0</th>\n",
       "      <td>0</td>\n",
       "      <td>0</td>\n",
       "      <td>0</td>\n",
       "      <td>0</td>\n",
       "      <td>0</td>\n",
       "      <td>0</td>\n",
       "      <td>0</td>\n",
       "      <td>0</td>\n",
       "      <td>0</td>\n",
       "      <td>0</td>\n",
       "      <td>...</td>\n",
       "      <td>0</td>\n",
       "      <td>0</td>\n",
       "      <td>0</td>\n",
       "      <td>0</td>\n",
       "      <td>0</td>\n",
       "      <td>0</td>\n",
       "      <td>0</td>\n",
       "      <td>0</td>\n",
       "      <td>0</td>\n",
       "      <td>0</td>\n",
       "    </tr>\n",
       "    <tr>\n",
       "      <th>1</th>\n",
       "      <td>0</td>\n",
       "      <td>0</td>\n",
       "      <td>0</td>\n",
       "      <td>0</td>\n",
       "      <td>0</td>\n",
       "      <td>0</td>\n",
       "      <td>0</td>\n",
       "      <td>0</td>\n",
       "      <td>0</td>\n",
       "      <td>0</td>\n",
       "      <td>...</td>\n",
       "      <td>0</td>\n",
       "      <td>0</td>\n",
       "      <td>0</td>\n",
       "      <td>0</td>\n",
       "      <td>0</td>\n",
       "      <td>0</td>\n",
       "      <td>0</td>\n",
       "      <td>0</td>\n",
       "      <td>0</td>\n",
       "      <td>0</td>\n",
       "    </tr>\n",
       "    <tr>\n",
       "      <th>2</th>\n",
       "      <td>0</td>\n",
       "      <td>0</td>\n",
       "      <td>0</td>\n",
       "      <td>0</td>\n",
       "      <td>0</td>\n",
       "      <td>0</td>\n",
       "      <td>0</td>\n",
       "      <td>0</td>\n",
       "      <td>0</td>\n",
       "      <td>0</td>\n",
       "      <td>...</td>\n",
       "      <td>0</td>\n",
       "      <td>0</td>\n",
       "      <td>0</td>\n",
       "      <td>0</td>\n",
       "      <td>0</td>\n",
       "      <td>0</td>\n",
       "      <td>0</td>\n",
       "      <td>0</td>\n",
       "      <td>0</td>\n",
       "      <td>0</td>\n",
       "    </tr>\n",
       "    <tr>\n",
       "      <th>3</th>\n",
       "      <td>0</td>\n",
       "      <td>0</td>\n",
       "      <td>0</td>\n",
       "      <td>0</td>\n",
       "      <td>0</td>\n",
       "      <td>0</td>\n",
       "      <td>0</td>\n",
       "      <td>0</td>\n",
       "      <td>0</td>\n",
       "      <td>0</td>\n",
       "      <td>...</td>\n",
       "      <td>0</td>\n",
       "      <td>0</td>\n",
       "      <td>0</td>\n",
       "      <td>0</td>\n",
       "      <td>0</td>\n",
       "      <td>0</td>\n",
       "      <td>0</td>\n",
       "      <td>0</td>\n",
       "      <td>0</td>\n",
       "      <td>0</td>\n",
       "    </tr>\n",
       "    <tr>\n",
       "      <th>4</th>\n",
       "      <td>0</td>\n",
       "      <td>0</td>\n",
       "      <td>0</td>\n",
       "      <td>0</td>\n",
       "      <td>0</td>\n",
       "      <td>0</td>\n",
       "      <td>0</td>\n",
       "      <td>0</td>\n",
       "      <td>0</td>\n",
       "      <td>0</td>\n",
       "      <td>...</td>\n",
       "      <td>0</td>\n",
       "      <td>0</td>\n",
       "      <td>0</td>\n",
       "      <td>0</td>\n",
       "      <td>0</td>\n",
       "      <td>0</td>\n",
       "      <td>0</td>\n",
       "      <td>0</td>\n",
       "      <td>0</td>\n",
       "      <td>0</td>\n",
       "    </tr>\n",
       "    <tr>\n",
       "      <th>...</th>\n",
       "      <td>...</td>\n",
       "      <td>...</td>\n",
       "      <td>...</td>\n",
       "      <td>...</td>\n",
       "      <td>...</td>\n",
       "      <td>...</td>\n",
       "      <td>...</td>\n",
       "      <td>...</td>\n",
       "      <td>...</td>\n",
       "      <td>...</td>\n",
       "      <td>...</td>\n",
       "      <td>...</td>\n",
       "      <td>...</td>\n",
       "      <td>...</td>\n",
       "      <td>...</td>\n",
       "      <td>...</td>\n",
       "      <td>...</td>\n",
       "      <td>...</td>\n",
       "      <td>...</td>\n",
       "      <td>...</td>\n",
       "      <td>...</td>\n",
       "    </tr>\n",
       "    <tr>\n",
       "      <th>95</th>\n",
       "      <td>0</td>\n",
       "      <td>0</td>\n",
       "      <td>0</td>\n",
       "      <td>0</td>\n",
       "      <td>0</td>\n",
       "      <td>0</td>\n",
       "      <td>0</td>\n",
       "      <td>0</td>\n",
       "      <td>0</td>\n",
       "      <td>0</td>\n",
       "      <td>...</td>\n",
       "      <td>0</td>\n",
       "      <td>0</td>\n",
       "      <td>0</td>\n",
       "      <td>0</td>\n",
       "      <td>0</td>\n",
       "      <td>0</td>\n",
       "      <td>0</td>\n",
       "      <td>0</td>\n",
       "      <td>0</td>\n",
       "      <td>0</td>\n",
       "    </tr>\n",
       "    <tr>\n",
       "      <th>96</th>\n",
       "      <td>0</td>\n",
       "      <td>0</td>\n",
       "      <td>0</td>\n",
       "      <td>0</td>\n",
       "      <td>0</td>\n",
       "      <td>0</td>\n",
       "      <td>0</td>\n",
       "      <td>0</td>\n",
       "      <td>0</td>\n",
       "      <td>0</td>\n",
       "      <td>...</td>\n",
       "      <td>0</td>\n",
       "      <td>0</td>\n",
       "      <td>0</td>\n",
       "      <td>0</td>\n",
       "      <td>0</td>\n",
       "      <td>0</td>\n",
       "      <td>0</td>\n",
       "      <td>0</td>\n",
       "      <td>0</td>\n",
       "      <td>0</td>\n",
       "    </tr>\n",
       "    <tr>\n",
       "      <th>97</th>\n",
       "      <td>0</td>\n",
       "      <td>0</td>\n",
       "      <td>0</td>\n",
       "      <td>0</td>\n",
       "      <td>0</td>\n",
       "      <td>0</td>\n",
       "      <td>0</td>\n",
       "      <td>0</td>\n",
       "      <td>0</td>\n",
       "      <td>0</td>\n",
       "      <td>...</td>\n",
       "      <td>0</td>\n",
       "      <td>0</td>\n",
       "      <td>0</td>\n",
       "      <td>0</td>\n",
       "      <td>0</td>\n",
       "      <td>0</td>\n",
       "      <td>0</td>\n",
       "      <td>0</td>\n",
       "      <td>0</td>\n",
       "      <td>0</td>\n",
       "    </tr>\n",
       "    <tr>\n",
       "      <th>98</th>\n",
       "      <td>0</td>\n",
       "      <td>0</td>\n",
       "      <td>0</td>\n",
       "      <td>0</td>\n",
       "      <td>0</td>\n",
       "      <td>0</td>\n",
       "      <td>0</td>\n",
       "      <td>0</td>\n",
       "      <td>0</td>\n",
       "      <td>0</td>\n",
       "      <td>...</td>\n",
       "      <td>0</td>\n",
       "      <td>0</td>\n",
       "      <td>0</td>\n",
       "      <td>0</td>\n",
       "      <td>0</td>\n",
       "      <td>0</td>\n",
       "      <td>0</td>\n",
       "      <td>0</td>\n",
       "      <td>0</td>\n",
       "      <td>0</td>\n",
       "    </tr>\n",
       "    <tr>\n",
       "      <th>99</th>\n",
       "      <td>0</td>\n",
       "      <td>0</td>\n",
       "      <td>0</td>\n",
       "      <td>0</td>\n",
       "      <td>0</td>\n",
       "      <td>0</td>\n",
       "      <td>0</td>\n",
       "      <td>0</td>\n",
       "      <td>0</td>\n",
       "      <td>0</td>\n",
       "      <td>...</td>\n",
       "      <td>0</td>\n",
       "      <td>0</td>\n",
       "      <td>0</td>\n",
       "      <td>0</td>\n",
       "      <td>0</td>\n",
       "      <td>0</td>\n",
       "      <td>0</td>\n",
       "      <td>0</td>\n",
       "      <td>0</td>\n",
       "      <td>0</td>\n",
       "    </tr>\n",
       "  </tbody>\n",
       "</table>\n",
       "<p>100 rows × 100 columns</p>\n",
       "</div>"
      ],
      "text/plain": [
       "    0   1   2   3   4   5   6   7   8   9   ...  90  91  92  93  94  95  96  \\\n",
       "0    0   0   0   0   0   0   0   0   0   0  ...   0   0   0   0   0   0   0   \n",
       "1    0   0   0   0   0   0   0   0   0   0  ...   0   0   0   0   0   0   0   \n",
       "2    0   0   0   0   0   0   0   0   0   0  ...   0   0   0   0   0   0   0   \n",
       "3    0   0   0   0   0   0   0   0   0   0  ...   0   0   0   0   0   0   0   \n",
       "4    0   0   0   0   0   0   0   0   0   0  ...   0   0   0   0   0   0   0   \n",
       "..  ..  ..  ..  ..  ..  ..  ..  ..  ..  ..  ...  ..  ..  ..  ..  ..  ..  ..   \n",
       "95   0   0   0   0   0   0   0   0   0   0  ...   0   0   0   0   0   0   0   \n",
       "96   0   0   0   0   0   0   0   0   0   0  ...   0   0   0   0   0   0   0   \n",
       "97   0   0   0   0   0   0   0   0   0   0  ...   0   0   0   0   0   0   0   \n",
       "98   0   0   0   0   0   0   0   0   0   0  ...   0   0   0   0   0   0   0   \n",
       "99   0   0   0   0   0   0   0   0   0   0  ...   0   0   0   0   0   0   0   \n",
       "\n",
       "    97  98  99  \n",
       "0    0   0   0  \n",
       "1    0   0   0  \n",
       "2    0   0   0  \n",
       "3    0   0   0  \n",
       "4    0   0   0  \n",
       "..  ..  ..  ..  \n",
       "95   0   0   0  \n",
       "96   0   0   0  \n",
       "97   0   0   0  \n",
       "98   0   0   0  \n",
       "99   0   0   0  \n",
       "\n",
       "[100 rows x 100 columns]"
      ]
     },
     "execution_count": 75,
     "metadata": {},
     "output_type": "execute_result"
    }
   ],
   "source": [
    "df"
   ]
  },
  {
   "cell_type": "code",
   "execution_count": 76,
   "metadata": {},
   "outputs": [],
   "source": [
    "poolArr = df.to_numpy()"
   ]
  },
  {
   "cell_type": "code",
   "execution_count": 89,
   "metadata": {},
   "outputs": [],
   "source": [
    "pooling_sample_size = 4\n",
    "newArr = np.empty((int((poolArr[0].size)/pooling_sample_size), int((poolArr[1].size)/pooling_sample_size)))\n",
    "\n",
    "\n",
    "for x in range(0,len(poolArr) -1,pooling_sample_size):\n",
    "    for y in range(0,len(poolArr[0]) -1,pooling_sample_size):\n",
    "        vals = []\n",
    "        for i in range(0,pooling_sample_size):\n",
    "            for j in range(0,pooling_sample_size):\n",
    "                vals.append(poolArr[x+i][y+j])\n",
    "        \n",
    "        xindex = int(np.floor(x/pooling_sample_size))\n",
    "        yindex = int(np.floor(y/pooling_sample_size))\n",
    "        newArr[xindex][yindex] = int(np.mean(vals))\n",
    "\n",
    "#poolout = Image.fromarray(newArr)\n",
    "#poolout.convert('L')\n"
   ]
  },
  {
   "cell_type": "code",
   "execution_count": 81,
   "metadata": {},
   "outputs": [
    {
     "data": {
      "text/plain": [
       "625"
      ]
     },
     "execution_count": 81,
     "metadata": {},
     "output_type": "execute_result"
    }
   ],
   "source": [
    "newArr.size"
   ]
  },
  {
   "cell_type": "code",
   "execution_count": 90,
   "metadata": {},
   "outputs": [],
   "source": [
    "sizes = [newArr.size,300,20,10]\n",
    "funcs = [nn.sigmoid,nn.relu,nn.relu,nn.identity]\n",
    "\n",
    "imgNet = nn.Net(sizes,funcs)"
   ]
  },
  {
   "cell_type": "code",
   "execution_count": 91,
   "metadata": {},
   "outputs": [
    {
     "name": "stdout",
     "output_type": "stream",
     "text": [
      "[0. 0. 0. 0. 0. 0. 0. 0. 0. 0. 0. 0. 0. 0. 0. 0. 0. 0. 0. 0. 0. 0. 0. 0.\n",
      " 0. 0. 0. 0. 0. 0. 0. 0. 0. 0. 0. 0. 0. 0. 0. 0. 0. 0. 0. 0. 0. 0. 0. 0.\n",
      " 0. 0. 0. 0. 0. 0. 0. 0. 0. 0. 0. 0. 0. 0. 0. 0. 0. 0. 0. 0. 0. 0. 0. 0.\n",
      " 0. 0. 0. 0. 0. 0. 0. 0. 0. 0. 0. 0. 0. 0. 0. 0. 0. 0. 0. 0. 0. 0. 0. 0.\n",
      " 0. 0. 0. 0. 0. 0. 0. 0. 0. 0. 0. 0. 0. 0. 0. 0. 0. 0. 0. 0. 0. 0. 0. 0.\n",
      " 0. 0. 0. 0. 0. 0. 0. 0. 0. 0. 0. 0. 0. 0. 0. 0. 0. 0. 0. 0. 0. 0. 0. 0.\n",
      " 0. 0. 0. 0. 0. 0. 0. 0. 0. 0. 0. 0. 0. 0. 0. 0. 0. 0. 0. 0. 0. 0. 0. 0.\n",
      " 0. 0. 0. 0. 0. 0. 0. 0. 0. 0. 0. 0. 0. 0. 0. 0. 0. 0. 0. 0. 0. 0. 0. 0.\n",
      " 0. 0. 0. 0. 0. 0. 0. 0. 0. 0. 0. 0. 0. 0. 0. 0. 0. 0. 0. 0. 0. 0. 0. 0.\n",
      " 0. 0. 0. 0. 0. 0. 0. 0. 0. 0. 0. 0. 0. 0. 0. 0. 0. 0. 0. 0. 0. 0. 0. 0.\n",
      " 0. 0. 0. 0. 0. 0. 0. 0. 0. 0. 0. 0. 0. 0. 0. 0. 0. 0. 0. 0. 0. 0. 0. 0.\n",
      " 0. 0. 0. 0. 0. 0. 0. 0. 0. 0. 0. 0. 0. 0. 0. 0. 0. 0. 0. 0. 0. 0. 0. 0.\n",
      " 0. 0. 0. 0. 0. 0. 0. 0. 0. 0. 0. 0. 0. 0. 0. 0. 0. 0. 0. 0. 0. 0. 0. 0.\n",
      " 0. 0. 0. 0. 0. 0. 0. 0. 0. 0. 0. 0. 0. 0. 0. 0. 0. 0. 0. 0. 0. 0. 0. 0.\n",
      " 0. 0. 0. 0. 0. 0. 0. 0. 0. 0. 0. 0. 0. 0. 0. 0. 0. 0. 0. 0. 0. 0. 0. 0.\n",
      " 0. 0. 0. 0. 0. 0. 0. 0. 0. 0. 0. 0. 0. 0. 0. 0. 0. 0. 0. 0. 0. 0. 0. 0.\n",
      " 0. 0. 0. 0. 0. 0. 0. 0. 0. 0. 0. 0. 0. 0. 0. 0. 0. 0. 0. 0. 0. 0. 0. 0.\n",
      " 0. 0. 0. 0. 0. 0. 0. 0. 0. 0. 0. 0. 0. 0. 0. 0. 0. 0. 0. 0. 0. 0. 0. 0.\n",
      " 0. 0. 0. 0. 0. 0. 0. 0. 0. 0. 0. 0. 0. 0. 0. 0. 0. 0. 0. 0. 0. 0. 0. 0.\n",
      " 0. 0. 0. 0. 0. 0. 0. 0. 0. 0. 0. 0. 0. 0. 0. 0. 0. 0. 0. 0. 0. 0. 0. 0.\n",
      " 0. 0. 0. 0. 0. 0. 0. 0. 0. 0. 0. 0. 0. 0. 0. 0. 0. 0. 0. 0. 0. 0. 0. 0.\n",
      " 0. 0. 0. 0. 0. 0. 0. 0. 0. 0. 0. 0. 0. 0. 0. 0. 0. 0. 0. 0. 0. 0. 0. 0.\n",
      " 0. 0. 0. 0. 0. 0. 0. 0. 0. 0. 0. 0. 0. 0. 0. 0. 0. 0. 0. 0. 0. 0. 0. 0.\n",
      " 0. 0. 0. 0. 0. 0. 0. 0. 0. 0. 0. 0. 0. 0. 0. 0. 0. 0. 0. 0. 0. 0. 0. 0.\n",
      " 0. 0. 0. 0. 0. 0. 0. 0. 0. 0. 0. 0. 0. 0. 0. 0. 0. 0. 0. 0. 0. 0. 0. 0.\n",
      " 0. 0. 0. 0. 0. 0. 0. 0. 0. 0. 0. 0. 0. 0. 0. 0. 0. 0. 0. 0. 0. 0. 0. 0.\n",
      " 0.]\n",
      "[0.73105858 0.73105858 0.73105858 0.73105858 0.73105858 0.73105858\n",
      " 0.73105858 0.73105858 0.73105858 0.73105858 0.73105858 0.73105858\n",
      " 0.73105858 0.73105858 0.73105858 0.73105858 0.73105858 0.73105858\n",
      " 0.73105858 0.73105858 0.73105858 0.73105858 0.73105858 0.73105858\n",
      " 0.73105858 0.73105858 0.73105858 0.73105858 0.73105858 0.73105858\n",
      " 0.73105858 0.73105858 0.73105858 0.73105858 0.73105858 0.73105858\n",
      " 0.73105858 0.73105858 0.73105858 0.73105858 0.73105858 0.73105858\n",
      " 0.73105858 0.73105858 0.73105858 0.73105858 0.73105858 0.73105858\n",
      " 0.73105858 0.73105858 0.73105858 0.73105858 0.73105858 0.73105858\n",
      " 0.73105858 0.73105858 0.73105858 0.73105858 0.73105858 0.73105858\n",
      " 0.73105858 0.73105858 0.73105858 0.73105858 0.73105858 0.73105858\n",
      " 0.73105858 0.73105858 0.73105858 0.73105858 0.73105858 0.73105858\n",
      " 0.73105858 0.73105858 0.73105858 0.73105858 0.73105858 0.73105858\n",
      " 0.73105858 0.73105858 0.73105858 0.73105858 0.73105858 0.73105858\n",
      " 0.73105858 0.73105858 0.73105858 0.73105858 0.73105858 0.73105858\n",
      " 0.73105858 0.73105858 0.73105858 0.73105858 0.73105858 0.73105858\n",
      " 0.73105858 0.73105858 0.73105858 0.73105858 0.73105858 0.73105858\n",
      " 0.73105858 0.73105858 0.73105858 0.73105858 0.73105858 0.73105858\n",
      " 0.73105858 0.73105858 0.73105858 0.73105858 0.73105858 0.73105858\n",
      " 0.73105858 0.73105858 0.73105858 0.73105858 0.73105858 0.73105858\n",
      " 0.73105858 0.73105858 0.73105858 0.73105858 0.73105858 0.73105858\n",
      " 0.73105858 0.73105858 0.73105858 0.73105858 0.73105858 0.73105858\n",
      " 0.73105858 0.73105858 0.73105858 0.73105858 0.73105858 0.73105858\n",
      " 0.73105858 0.73105858 0.73105858 0.73105858 0.73105858 0.73105858\n",
      " 0.73105858 0.73105858 0.73105858 0.73105858 0.73105858 0.73105858\n",
      " 0.73105858 0.73105858 0.73105858 0.73105858 0.73105858 0.73105858\n",
      " 0.73105858 0.73105858 0.73105858 0.73105858 0.73105858 0.73105858\n",
      " 0.73105858 0.73105858 0.73105858 0.73105858 0.73105858 0.73105858\n",
      " 0.73105858 0.73105858 0.73105858 0.73105858 0.73105858 0.73105858\n",
      " 0.73105858 0.73105858 0.73105858 0.73105858 0.73105858 0.73105858\n",
      " 0.73105858 0.73105858 0.73105858 0.73105858 0.73105858 0.73105858\n",
      " 0.73105858 0.73105858 0.73105858 0.73105858 0.73105858 0.73105858\n",
      " 0.73105858 0.73105858 0.73105858 0.73105858 0.73105858 0.73105858\n",
      " 0.73105858 0.73105858 0.73105858 0.73105858 0.73105858 0.73105858\n",
      " 0.73105858 0.73105858 0.73105858 0.73105858 0.73105858 0.73105858\n",
      " 0.73105858 0.73105858 0.73105858 0.73105858 0.73105858 0.73105858\n",
      " 0.73105858 0.73105858 0.73105858 0.73105858 0.73105858 0.73105858\n",
      " 0.73105858 0.73105858 0.73105858 0.73105858 0.73105858 0.73105858\n",
      " 0.73105858 0.73105858 0.73105858 0.73105858 0.73105858 0.73105858\n",
      " 0.73105858 0.73105858 0.73105858 0.73105858 0.73105858 0.73105858\n",
      " 0.73105858 0.73105858 0.73105858 0.73105858 0.73105858 0.73105858\n",
      " 0.73105858 0.73105858 0.73105858 0.73105858 0.73105858 0.73105858\n",
      " 0.73105858 0.73105858 0.73105858 0.73105858 0.73105858 0.73105858\n",
      " 0.73105858 0.73105858 0.73105858 0.73105858 0.73105858 0.73105858\n",
      " 0.73105858 0.73105858 0.73105858 0.73105858 0.73105858 0.73105858\n",
      " 0.73105858 0.73105858 0.73105858 0.73105858 0.73105858 0.73105858\n",
      " 0.73105858 0.73105858 0.73105858 0.73105858 0.73105858 0.73105858\n",
      " 0.73105858 0.73105858 0.73105858 0.73105858 0.73105858 0.73105858\n",
      " 0.73105858 0.73105858 0.73105858 0.73105858 0.73105858 0.73105858\n",
      " 0.73105858 0.73105858 0.73105858 0.73105858 0.73105858 0.73105858]\n",
      "[0.73105858 0.73105858 0.73105858 0.73105858 0.73105858 0.73105858\n",
      " 0.73105858 0.73105858 0.73105858 0.73105858 0.73105858 0.73105858\n",
      " 0.73105858 0.73105858 0.73105858 0.73105858 0.73105858 0.73105858\n",
      " 0.73105858 0.73105858 0.73105858 0.73105858 0.73105858 0.73105858\n",
      " 0.73105858 0.73105858 0.73105858 0.73105858 0.73105858 0.73105858\n",
      " 0.73105858 0.73105858 0.73105858 0.73105858 0.73105858 0.73105858\n",
      " 0.73105858 0.73105858 0.73105858 0.73105858 0.73105858 0.73105858\n",
      " 0.73105858 0.73105858 0.73105858 0.73105858 0.73105858 0.73105858\n",
      " 0.73105858 0.73105858 0.73105858 0.73105858 0.73105858 0.73105858\n",
      " 0.73105858 0.73105858 0.73105858 0.73105858 0.73105858 0.73105858\n",
      " 0.73105858 0.73105858 0.73105858 0.73105858 0.73105858 0.73105858\n",
      " 0.73105858 0.73105858 0.73105858 0.73105858 0.73105858 0.73105858\n",
      " 0.73105858 0.73105858 0.73105858 0.73105858 0.73105858 0.73105858\n",
      " 0.73105858 0.73105858 0.73105858 0.73105858 0.73105858 0.73105858\n",
      " 0.73105858 0.73105858 0.73105858 0.73105858 0.73105858 0.73105858\n",
      " 0.73105858 0.73105858 0.73105858 0.73105858 0.73105858 0.73105858\n",
      " 0.73105858 0.73105858 0.73105858 0.73105858 0.73105858 0.73105858\n",
      " 0.73105858 0.73105858 0.73105858 0.73105858 0.73105858 0.73105858\n",
      " 0.73105858 0.73105858 0.73105858 0.73105858 0.73105858 0.73105858\n",
      " 0.73105858 0.73105858 0.73105858 0.73105858 0.73105858 0.73105858\n",
      " 0.73105858 0.73105858 0.73105858 0.73105858 0.73105858 0.73105858\n",
      " 0.73105858 0.73105858 0.73105858 0.73105858 0.73105858 0.73105858\n",
      " 0.73105858 0.73105858 0.73105858 0.73105858 0.73105858 0.73105858\n",
      " 0.73105858 0.73105858 0.73105858 0.73105858 0.73105858 0.73105858\n",
      " 0.73105858 0.73105858 0.73105858 0.73105858 0.73105858 0.73105858\n",
      " 0.73105858 0.73105858 0.73105858 0.73105858 0.73105858 0.73105858\n",
      " 0.73105858 0.73105858 0.73105858 0.73105858 0.73105858 0.73105858\n",
      " 0.73105858 0.73105858 0.73105858 0.73105858 0.73105858 0.73105858\n",
      " 0.73105858 0.73105858 0.73105858 0.73105858 0.73105858 0.73105858\n",
      " 0.73105858 0.73105858 0.73105858 0.73105858 0.73105858 0.73105858\n",
      " 0.73105858 0.73105858 0.73105858 0.73105858 0.73105858 0.73105858\n",
      " 0.73105858 0.73105858 0.73105858 0.73105858 0.73105858 0.73105858\n",
      " 0.73105858 0.73105858 0.73105858 0.73105858 0.73105858 0.73105858\n",
      " 0.73105858 0.73105858 0.73105858 0.73105858 0.73105858 0.73105858\n",
      " 0.73105858 0.73105858 0.73105858 0.73105858 0.73105858 0.73105858\n",
      " 0.73105858 0.73105858 0.73105858 0.73105858 0.73105858 0.73105858\n",
      " 0.73105858 0.73105858 0.73105858 0.73105858 0.73105858 0.73105858\n",
      " 0.73105858 0.73105858 0.73105858 0.73105858 0.73105858 0.73105858\n",
      " 0.73105858 0.73105858 0.73105858 0.73105858 0.73105858 0.73105858\n",
      " 0.73105858 0.73105858 0.73105858 0.73105858 0.73105858 0.73105858\n",
      " 0.73105858 0.73105858 0.73105858 0.73105858 0.73105858 0.73105858\n",
      " 0.73105858 0.73105858 0.73105858 0.73105858 0.73105858 0.73105858\n",
      " 0.73105858 0.73105858 0.73105858 0.73105858 0.73105858 0.73105858\n",
      " 0.73105858 0.73105858 0.73105858 0.73105858 0.73105858 0.73105858\n",
      " 0.73105858 0.73105858 0.73105858 0.73105858 0.73105858 0.73105858\n",
      " 0.73105858 0.73105858 0.73105858 0.73105858 0.73105858 0.73105858\n",
      " 0.73105858 0.73105858 0.73105858 0.73105858 0.73105858 0.73105858\n",
      " 0.73105858 0.73105858 0.73105858 0.73105858 0.73105858 0.73105858\n",
      " 0.73105858 0.73105858 0.73105858 0.73105858 0.73105858 0.73105858\n",
      " 0.73105858 0.73105858 0.73105858 0.73105858 0.73105858 0.73105858]\n",
      "[220.31757359 220.31757359 220.31757359 220.31757359 220.31757359\n",
      " 220.31757359 220.31757359 220.31757359 220.31757359 220.31757359\n",
      " 220.31757359 220.31757359 220.31757359 220.31757359 220.31757359\n",
      " 220.31757359 220.31757359 220.31757359 220.31757359 220.31757359]\n",
      "[220.31757359 220.31757359 220.31757359 220.31757359 220.31757359\n",
      " 220.31757359 220.31757359 220.31757359 220.31757359 220.31757359\n",
      " 220.31757359 220.31757359 220.31757359 220.31757359 220.31757359\n",
      " 220.31757359 220.31757359 220.31757359 220.31757359 220.31757359]\n",
      "[4407.35147178 4407.35147178 4407.35147178 4407.35147178 4407.35147178\n",
      " 4407.35147178 4407.35147178 4407.35147178 4407.35147178 4407.35147178]\n"
     ]
    }
   ],
   "source": [
    "imgNet.forward(newArr.flatten())"
   ]
  }
 ],
 "metadata": {
  "kernelspec": {
   "display_name": "Python 3",
   "language": "python",
   "name": "python3"
  },
  "language_info": {
   "codemirror_mode": {
    "name": "ipython",
    "version": 3
   },
   "file_extension": ".py",
   "mimetype": "text/x-python",
   "name": "python",
   "nbconvert_exporter": "python",
   "pygments_lexer": "ipython3",
   "version": "3.11.9"
  }
 },
 "nbformat": 4,
 "nbformat_minor": 2
}
